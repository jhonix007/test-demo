{
  "nbformat": 4,
  "nbformat_minor": 0,
  "metadata": {
    "colab": {
      "provenance": [],
      "authorship_tag": "ABX9TyPxjo6G3zrL12ylNqf4LQmM",
      "include_colab_link": true
    },
    "kernelspec": {
      "name": "python3",
      "display_name": "Python 3"
    },
    "language_info": {
      "name": "python"
    }
  },
  "cells": [
    {
      "cell_type": "markdown",
      "metadata": {
        "id": "view-in-github",
        "colab_type": "text"
      },
      "source": [
        "<a href=\"https://colab.research.google.com/github/jhonix007/test-demo/blob/master/%D0%94%D0%BE%D0%BC%D0%B0%D1%88%D0%BD%D0%B5%D0%B5_%D0%B7%D0%B0%D0%B4%D0%B0%D0%BD%D0%B8%D0%B5_2_2.ipynb\" target=\"_parent\"><img src=\"https://colab.research.google.com/assets/colab-badge.svg\" alt=\"Open In Colab\"/></a>"
      ]
    },
    {
      "cell_type": "markdown",
      "source": [
        "### Установка pyspark с помощью pip"
      ],
      "metadata": {
        "id": "5xfgyvi8r4cE"
      }
    },
    {
      "cell_type": "code",
      "execution_count": 1,
      "metadata": {
        "id": "tOiu59KSrhJT",
        "colab": {
          "base_uri": "https://localhost:8080/"
        },
        "outputId": "4e37b6ef-563e-44e7-b997-4f58d9e59de5"
      },
      "outputs": [
        {
          "output_type": "stream",
          "name": "stdout",
          "text": [
            "\u001b[2K     \u001b[90m━━━━━━━━━━━━━━━━━━━━━━━━━━━━━━━━━━━━━━━━\u001b[0m \u001b[32m317.0/317.0 MB\u001b[0m \u001b[31m2.4 MB/s\u001b[0m eta \u001b[36m0:00:00\u001b[0m\n",
            "\u001b[?25h  Preparing metadata (setup.py) ... \u001b[?25l\u001b[?25hdone\n",
            "  Building wheel for pyspark (setup.py) ... \u001b[?25l\u001b[?25hdone\n"
          ]
        }
      ],
      "source": [
        "pip install --quiet pyspark"
      ]
    },
    {
      "cell_type": "code",
      "source": [
        "from pyspark.sql import SparkSession\n",
        "\n",
        "spark = SparkSession.builder.appName(\"Practice\").getOrCreate()"
      ],
      "metadata": {
        "id": "wgc3m0p6sare"
      },
      "execution_count": 2,
      "outputs": []
    },
    {
      "cell_type": "markdown",
      "source": [
        "## Скачиваем файл"
      ],
      "metadata": {
        "id": "DJ2iTB9JSIA-"
      }
    },
    {
      "cell_type": "code",
      "source": [
        "from pyspark import SparkFiles\n",
        "\n",
        "covid_data_file_url = \"https://raw.githubusercontent.com/glincow/netology-spark-sql/main/data/covid-data.csv\"\n",
        "spark.sparkContext.addFile(covid_data_file_url)\n",
        "file_path  = 'file://' + SparkFiles.get('covid-data.csv')\n",
        "df = spark.read.option('inferSchema', 'true').option('header', 'true').csv(file_path)"
      ],
      "metadata": {
        "id": "LmE95AdTsp7j"
      },
      "execution_count": 3,
      "outputs": []
    },
    {
      "cell_type": "markdown",
      "source": [
        "Выберите 15 стран с наибольшим процентом переболевших на 31 марта (в выходящем датасете необходимы колонки: iso_code, страна, процент переболевших)"
      ],
      "metadata": {
        "id": "ebUjEgL2KuBI"
      }
    },
    {
      "cell_type": "code",
      "source": [
        "from pyspark.sql import functions as F\n",
        "from pyspark.sql.functions import row_number, desc\n",
        "from pyspark.sql.functions import row_number,lit\n",
        "from pyspark.sql.window import Window"
      ],
      "metadata": {
        "id": "wLuhEcleusRH"
      },
      "execution_count": 9,
      "outputs": []
    },
    {
      "cell_type": "code",
      "source": [
        "df_cases_in_march = df.select(\"iso_code\", \"location\", (F.col('total_cases_per_million') / 1000).alias(\"total_per_cent_of_sick\")).sort(F.col(\"total_per_cent_of_sick\").desc()).where(F.col('date')=='2021-03-31')\n",
        "df_cases_in_march.show(15)"
      ],
      "metadata": {
        "colab": {
          "base_uri": "https://localhost:8080/"
        },
        "id": "xnB3HXdwuODU",
        "outputId": "7e127b32-df4c-4226-f06b-ceee14d473e7"
      },
      "execution_count": 7,
      "outputs": [
        {
          "output_type": "stream",
          "name": "stdout",
          "text": [
            "+--------+-------------+----------------------+\n",
            "|iso_code|     location|total_per_cent_of_sick|\n",
            "+--------+-------------+----------------------+\n",
            "|     AND|      Andorra|            155.439073|\n",
            "|     MNE|   Montenegro|    145.23725399999998|\n",
            "|     CZE|      Czechia|            143.088484|\n",
            "|     SMR|   San Marino|            139.371796|\n",
            "|     SVN|     Slovenia|    103.70805800000001|\n",
            "|     LUX|   Luxembourg|             98.473424|\n",
            "|     ISR|       Israel|              96.25106|\n",
            "|     USA|United States|     92.03011000000001|\n",
            "|     SRB|       Serbia|             88.263286|\n",
            "|     BHR|      Bahrain|             84.888601|\n",
            "|     PAN|       Panama|             82.287391|\n",
            "|     PRT|     Portugal|             80.586997|\n",
            "|     EST|      Estonia|             80.226816|\n",
            "|     SWE|       Sweden|     79.69744299999999|\n",
            "|     LTU|    Lithuania|     79.38864699999999|\n",
            "+--------+-------------+----------------------+\n",
            "only showing top 15 rows\n",
            "\n"
          ]
        }
      ]
    },
    {
      "cell_type": "markdown",
      "source": [
        "Top 10 стран с максимальным зафиксированным кол-вом новых случаев за последнюю неделю марта 2021 в отсортированном порядке по убыванию\n",
        "(в выходящем датасете необходимы колонки: число, страна, кол-во новых случаев)"
      ],
      "metadata": {
        "id": "Ik5_hORfK6yu"
      }
    },
    {
      "cell_type": "code",
      "source": [
        "dates = ('2021-03-25', '2021-03-31')\n",
        "df_max_new_cases = df.filter(F.col('date').between(*dates)).select(\"date\",\n",
        "                                                                    \"location\"\n",
        "                                                                    ,\"new_cases\"\n",
        "\n",
        "\n",
        ").sort(F.col(\"new_cases\").desc()).where((F.col('location')!='World') &\n",
        "                                        (F.col('location')!='Europe') &\n",
        "                                        (F.col('location')!='Asia') &\n",
        "                                        (F.col('location')!= 'North America') &\n",
        "                                        (F.col('location')!='European Union') &\n",
        "                                        (F.col('location')!='South America') &\n",
        "                                        (F.col('location')!='Africa'))\n",
        "\n",
        "# Применим partitionBy() and orderBy()\n",
        "window_spec = Window.partitionBy(\"location\").orderBy(desc(\"new_cases\"))\n",
        "\n",
        "# Добавит столбец \"row_number\" используя row_number()\n",
        "result_df = df_max_new_cases.withColumn(\"row_number\", row_number().over(window_spec)).where((F.col(\"row_number\")==1))\n",
        "\n",
        "result_df.select(\"date\", \"location\", \"new_cases\").sort(F.col(\"new_cases\").desc()).show(10)"
      ],
      "metadata": {
        "id": "nNFu9n0CMNKM",
        "outputId": "28e5b8a1-a4b4-4800-d667-a43a339432e2",
        "colab": {
          "base_uri": "https://localhost:8080/"
        }
      },
      "execution_count": 10,
      "outputs": [
        {
          "output_type": "stream",
          "name": "stdout",
          "text": [
            "+----------+-------------+---------+\n",
            "|      date|     location|new_cases|\n",
            "+----------+-------------+---------+\n",
            "|2021-03-25|       Brazil| 100158.0|\n",
            "|2021-03-26|United States|  77321.0|\n",
            "|2021-03-31|        India|  72330.0|\n",
            "|2021-03-31|       France|  59054.0|\n",
            "|2021-03-31|       Turkey|  39302.0|\n",
            "|2021-03-26|       Poland|  35145.0|\n",
            "|2021-03-31|      Germany|  25014.0|\n",
            "|2021-03-26|        Italy|  24076.0|\n",
            "|2021-03-25|         Peru|  19206.0|\n",
            "|2021-03-26|      Ukraine|  18226.0|\n",
            "+----------+-------------+---------+\n",
            "only showing top 10 rows\n",
            "\n"
          ]
        }
      ]
    },
    {
      "cell_type": "markdown",
      "source": [
        "Посчитайте изменение случаев относительно предыдущего дня в России за последнюю неделю марта 2021. (например: в россии вчера было 9150 , сегодня 8763, итог: -387) (в выходящем датасете необходимы колонки: число, кол-во новых случаев вчера, кол-во новых случаев сегодня, дельта)"
      ],
      "metadata": {
        "id": "-nmNmgB2LDXw"
      }
    },
    {
      "cell_type": "code",
      "source": [
        "w = Window.orderBy(\"Date\")\n",
        "dates = ('2021-03-24', '2021-03-31')\n",
        "\n",
        "w = Window().orderBy(\"date\")\n",
        "\n",
        "\n",
        "\n",
        "df_changes = df.filter(F.col('date').between(*dates)).where(F.col('location').startswith(\"Russia\")).select(\n",
        "                                                                                                  \"date\",\"location\", (F.col('new_cases')).alias(\"new_cases_today\"),\n",
        "                                                                                                   F.lag(\"new_cases\").over(w).alias(\"new_cases_yestarday\")\n",
        "                                                                                                         ).where(F.col('location').startswith(\"Russia\"))\n",
        "\n",
        "\n",
        "df_changes = df_changes.select(\"date\",\n",
        "                  \"new_cases_today\",\n",
        "                  \"new_cases_yestarday\",\n",
        "                  (F.col('new_cases_today')-(F.col('new_cases_yestarday')).alias(\"delta\"))\n",
        "                 )\n",
        "\n",
        "\n",
        "df_changes.withColumnRenamed(\"(new_cases_today - new_cases_yestarday AS delta)\", \"delta\").filter(F.col('new_cases_yestarday').isNotNull()).show()"
      ],
      "metadata": {
        "colab": {
          "base_uri": "https://localhost:8080/"
        },
        "id": "2d7TMP3p__Pf",
        "outputId": "3e7efacd-e7a3-4342-e5b7-72e71b2d8cdf"
      },
      "execution_count": 18,
      "outputs": [
        {
          "output_type": "stream",
          "name": "stdout",
          "text": [
            "+----------+---------------+-------------------+------+\n",
            "|      date|new_cases_today|new_cases_yestarday| delta|\n",
            "+----------+---------------+-------------------+------+\n",
            "|2021-03-25|         9128.0|             8769.0| 359.0|\n",
            "|2021-03-26|         9073.0|             9128.0| -55.0|\n",
            "|2021-03-27|         8783.0|             9073.0|-290.0|\n",
            "|2021-03-28|         8979.0|             8783.0| 196.0|\n",
            "|2021-03-29|         8589.0|             8979.0|-390.0|\n",
            "|2021-03-30|         8162.0|             8589.0|-427.0|\n",
            "|2021-03-31|         8156.0|             8162.0|  -6.0|\n",
            "+----------+---------------+-------------------+------+\n",
            "\n"
          ]
        }
      ]
    }
  ]
}